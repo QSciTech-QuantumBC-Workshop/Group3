{
 "cells": [
  {
   "cell_type": "code",
   "execution_count": 46,
   "metadata": {},
   "outputs": [
    {
     "name": "stdout",
     "output_type": "stream",
     "text": [
      "The autoreload extension is already loaded. To reload it, use:\n",
      "  %reload_ext autoreload\n"
     ]
    }
   ],
   "source": [
    "import numpy as np\n",
    "%load_ext autoreload\n",
    "%autoreload 0\n",
    "import matplotlib.pyplot as plt"
   ]
  },
  {
   "cell_type": "code",
   "execution_count": 47,
   "metadata": {},
   "outputs": [],
   "source": [
    "from qiskit.circuit import QuantumCircuit\n",
    "from qiskit.circuit import Parameter\n",
    "\n",
    "from estimator import Estimator\n",
    "from estimator import BasicEstimator"
   ]
  },
  {
   "cell_type": "code",
   "execution_count": 48,
   "metadata": {},
   "outputs": [],
   "source": [
    "from qiskit import Aer, execute\n",
    "qasm_simulator = Aer.get_backend('qasm_simulator')"
   ]
  },
  {
   "cell_type": "code",
   "execution_count": 49,
   "metadata": {},
   "outputs": [],
   "source": [
    "from pauli_string import PauliString\n",
    "from hamiltonian import MolecularFermionicHamiltonian\n",
    "from mapping import JordanWigner\n",
    "from scipy.optimize import minimize\n",
    "from solver import VQESolver"
   ]
  },
  {
   "cell_type": "code",
   "execution_count": 50,
   "metadata": {},
   "outputs": [],
   "source": [
    "def read_integrals(distance):\n",
    "    with open('H2_hamiltonian_integrals/Integrals_H2_no_spin_d_'+str(distance)+'.npz','rb') as f:\n",
    "\n",
    "        out = np.load(f)\n",
    "        h1_load_no_spin = out['h1']\n",
    "        h2_load_no_spin = out['h2']\n",
    "        energy_nuc =  out['energy_nuc']\n",
    "        distance = out['distance']\n",
    "\n",
    "    molecular_hamiltonian = MolecularFermionicHamiltonian.from_integrals(h1_load_no_spin,h2_load_no_spin).include_spin()\n",
    "\n",
    "    mapping = JordanWigner()\n",
    "    qubit_hamiltonian = mapping.fermionic_hamiltonian_to_qubit_hamiltonian(molecular_hamiltonian).sort()\n",
    "    qubit_hamiltonian = qubit_hamiltonian.apply_threshold().combine().apply_threshold().sort()\n",
    "    return (qubit_hamiltonian, energy_nuc)\n",
    "\n",
    "\n",
    "\n",
    "def initial_state_circuit():\n",
    "    varform_4qubits_1param = QuantumCircuit(4)\n",
    "    a = Parameter('a')\n",
    "    varform_4qubits_1param.x(0)\n",
    "    varform_4qubits_1param.rx(a,1)\n",
    "    varform_4qubits_1param.cx(1,0)\n",
    "    varform_4qubits_1param.cx(0,2)\n",
    "    varform_4qubits_1param.cx(1,3)\n",
    "    \n",
    "    return varform_4qubits_1param\n",
    "\n",
    "def Estimator(read_integrals, initial_state_circuit):\n",
    "    qubit_hamiltonian = read_integrals(distance)[0]\n",
    "    varform = initial_state_circuit()\n",
    "    backend = qasm_simulator\n",
    "    execute_opts = {'shots' : 2048}\n",
    "    estimator = BasicEstimator(varform, backend,execute_opts = execute_opts)\n",
    "    estimator.set_observable(qubit_hamiltonian)\n",
    "    params = [0,]\n",
    "    expected_value = estimator.eval(params)\n",
    "    \n",
    "    return estimator\n",
    "\n",
    "minimizer = lambda fct, start_param_values : minimize(\n",
    "    fct,\n",
    "    start_param_values,\n",
    "    method = 'SLSQP', \n",
    "    options = {'maxiter' : 5,'eps' : 1e-1, 'ftol' : 1e-4, 'disp' : True, 'iprint' : 0})"
   ]
  },
  {
   "cell_type": "code",
   "execution_count": 68,
   "metadata": {},
   "outputs": [
    {
     "name": "stdout",
     "output_type": "stream",
     "text": [
      "Ground state energy estimate at distance 0.2 (molecular, vqe) :  0.16101247248467\n",
      "Ground state energy estimate at distance 0.4 (molecular, vqe) :  -0.904722878249526\n",
      "Ground state energy estimate at distance 0.6 (molecular, vqe) :  -1.1014675599312667\n",
      "Ground state energy estimate at distance 0.8 (molecular, vqe) :  -1.1120223448331517\n",
      "Ground state energy estimate at distance 1.0 (molecular, vqe) :  -1.0647213300546854\n",
      "Ground state energy estimate at distance 1.2 (molecular, vqe) :  -1.0059262044927957\n",
      "Ground state energy estimate at distance 1.4 (molecular, vqe) :  -0.945215324556256\n",
      "Ground state energy estimate at distance 1.6 (molecular, vqe) :  -0.8768961857248145\n",
      "Ground state energy estimate at distance 1.8 (molecular, vqe) :  -0.8298169643077574\n",
      "Ground state energy estimate at distance 2.0 (molecular, vqe) :  -0.7873355631136172\n",
      "Ground state energy estimate at distance 2.2 (molecular, vqe) :  -0.7458793867820019\n",
      "Ground state energy estimate at distance 2.4 (molecular, vqe) :  -0.7115643660296063\n"
     ]
    }
   ],
   "source": [
    "distance_array = np.arange(0.2,2.5,0.2)\n",
    "opt_param_list = []\n",
    "Ground_state_energy = []\n",
    "for i, distance in enumerate(distance_array):\n",
    "    distance = np.round(distance,decimals = 3)\n",
    "    qubit_hamiltonian = read_integrals(distance)[0]\n",
    "    energy_nuc = read_integrals(distance)[1]\n",
    "    \n",
    "\n",
    "    estimator = Estimator(read_integrals, initial_state_circuit)\n",
    "    vqe_solver = VQESolver(estimator,minimizer,[0,],name = 'vqe_solver')\n",
    "    opt_value = vqe_solver.lowest_eig_value(qubit_hamiltonian)\n",
    "#     print('Ground state position estimate (vqe) : ', vqe_solver.last_opt_params)\n",
    "#     print('Ground state energy estimate (electronic, vqe) : ', opt_value)\n",
    "    opt_param_list.append(vqe_solver.last_opt_params)\n",
    "    Ground_state_energy.append(opt_value + energy_nuc)\n",
    "    print('Ground state energy estimate at distance '+str(distance)+' (molecular, vqe) : ', opt_value + energy_nuc)"
   ]
  },
  {
   "cell_type": "code",
   "execution_count": 69,
   "metadata": {},
   "outputs": [
    {
     "data": {
      "image/png": "[encoded data removed]",
      "text/plain": [
       "<Figure size 432x288 with 1 Axes>"
      ]
     },
     "metadata": {
      "needs_background": "light"
     },
     "output_type": "display_data"
    }
   ],
   "source": [
    "plt.plot(distance_array, Ground_state_energy, 'o-')\n",
    "plt.xlabel('distance')\n",
    "plt.ylabel('energy')\n",
    "plt.show()"
   ]
  },
  {
   "cell_type": "code",
   "execution_count": 70,
   "metadata": {},
   "outputs": [],
   "source": [
    "eigenstate_qc_list = []\n",
    "counts_list = []\n",
    "for i, distance in enumerate(distance_array):\n",
    "    varform = initial_state_circuit()\n",
    "    eigenstate_qc = varform.copy()\n",
    "    eigenstate_qc.measure_all()\n",
    "    opt_params = opt_param_list[i]\n",
    "\n",
    "    param_dict = dict(zip(eigenstate_qc.parameters,opt_params))\n",
    "    eigenstate_qc = eigenstate_qc.assign_parameters(param_dict)\n",
    "    \n",
    "    execute_opts = {'shots' : 1024}\n",
    "    job = execute(eigenstate_qc,backend=qasm_simulator,**execute_opts)\n",
    "    result = job.result()\n",
    "    counts = result.get_counts(eigenstate_qc)\n",
    "    \n",
    "    eigenstate_qc_list.append(eigenstate_qc)\n",
    "    counts_list.append(counts)\n"
   ]
  },
  {
   "cell_type": "code",
   "execution_count": 71,
   "metadata": {},
   "outputs": [
    {
     "data": {
      "image/png": "[encoded data removed]",
      "text/plain": [
       "<Figure size 779.079x325.08 with 1 Axes>"
      ]
     },
     "metadata": {},
     "output_type": "display_data"
    },
    {
     "data": {
      "text/plain": [
       "{'0101': 1024}"
      ]
     },
     "execution_count": 71,
     "metadata": {},
     "output_type": "execute_result"
    }
   ],
   "source": [
    "i = 0\n",
    "display(eigenstate_qc_list[i].draw('mpl'))\n",
    "counts_list[i]"
   ]
  },
  {
   "cell_type": "code",
   "execution_count": 72,
   "metadata": {},
   "outputs": [
    {
     "data": {
      "image/png": "[encoded data removed]",
      "text/plain": [
       "<Figure size 504x360 with 1 Axes>"
      ]
     },
     "execution_count": 72,
     "metadata": {},
     "output_type": "execute_result"
    }
   ],
   "source": [
    "from qiskit.visualization import plot_histogram\n",
    "plot_histogram(counts_list[i])"
   ]
  },
  {
   "cell_type": "code",
   "execution_count": null,
   "metadata": {},
   "outputs": [],
   "source": []
  }
 ],
 "metadata": {
  "kernelspec": {
   "display_name": "Python 3",
   "language": "python",
   "name": "python3"
  },
  "language_info": {
   "codemirror_mode": {
    "name": "ipython",
    "version": 3
   },
   "file_extension": ".py",
   "mimetype": "text/x-python",
   "name": "python",
   "nbconvert_exporter": "python",
   "pygments_lexer": "ipython3",
   "version": "3.8.5"
  }
 },
 "nbformat": 4,
 "nbformat_minor": 4
}
